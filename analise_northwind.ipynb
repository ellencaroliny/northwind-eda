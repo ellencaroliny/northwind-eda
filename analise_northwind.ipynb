{
 "cells": [
  {
   "cell_type": "code",
   "execution_count": null,
   "metadata": {},
   "outputs": [],
   "source": [
    "import pandas as pd\n",
    "import matplotlib.pyplot as plt\n",
    "import seaborn as sns\n",
    "\n",
    "dados_categorias = pd.read_csv('./northwind/categories.csv', delimiter=';')\n",
    "dados_clientes = pd.read_csv('./northwind/customers.csv', delimiter=';')\n",
    "dados_pedidos = pd.read_csv('./northwind/orders.csv', delimiter=';')\n",
    "dados_detalhes = pd.read_csv('./northwind/order_details.csv', delimiter=';')\n",
    "dados_produtos = pd.read_csv('./northwind/products.csv', delimiter=';')\n",
    "\n",
    "plt.style.use('ggplot')\n",
    "sns.set_palette('pastel')"
   ]
  },
  {
   "cell_type": "code",
   "execution_count": null,
   "metadata": {},
   "outputs": [],
   "source": [
    "dados_pedidos['data_pedido'] = pd.to_datetime(dados_pedidos['order_date'])\n",
    "dados_completos = pd.merge(dados_detalhes, dados_pedidos, on='order_id')\n",
    "dados_completos = pd.merge(dados_completos, dados_produtos, on='product_id')\n",
    "\n",
    "vendas_mensais = dados_completos.groupby(dados_pedidos['data_pedido'].dt.to_period('M'))['quantity'].sum()\n",
    "plt.figure(figsize=(10,5))\n",
    "vendas_mensais.plot(kind='line', marker='o')\n",
    "plt.title('Vendas Mensais Northwind')\n",
    "plt.ylabel('Quantidade Vendida')\n",
    "plt.xlabel('Mês')\n",
    "plt.tight_layout()"
   ]
  },
  {
   "cell_type": "code",
   "execution_count": null,
   "metadata": {},
   "outputs": [],
   "source": [
    "clientes_ativos = dados_pedidos.groupby('customer_id')['data_pedido'].max()\n",
    "churn = (pd.Timestamp.now() - clientes_ativos).dt.days > 90\n",
    "taxa_churn = churn.mean()\n",
    "\n",
    "plt.figure(figsize=(6,6))\n",
    "plt.pie([taxa_churn, 1-taxa_churn], labels=['Clientes Inativos', 'Clientes Ativos'], autopct='%1.1f%%')\n",
    "plt.title('Taxa de Churn nos Últimos 3 Meses')"
   ]
  },
  {
   "cell_type": "code",
   "execution_count": null,
   "metadata": {},
   "outputs": [],
   "source": [
    "ticket_medio = dados_completos.groupby('order_id')['unit_price'].sum().mean()\n",
    "produtos_top = dados_completos.groupby('product_name')['quantity'].sum().nlargest(5)\n",
    "\n",
    "print(f'Ticket Médio: R${ticket_medio:.2f}')\n",
    "produtos_top.plot(kind='barh', title='Top 5 Produtos Mais Vendidos')"
   ]
  }
 ],
 "metadata": {
  "kernelspec": {
   "display_name": "Python 3",
   "language": "python",
   "name": "python3"
  }
 }
}
